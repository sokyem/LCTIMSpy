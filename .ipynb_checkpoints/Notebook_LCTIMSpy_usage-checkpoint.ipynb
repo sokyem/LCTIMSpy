{
 "cells": [
  {
   "cell_type": "code",
   "execution_count": null,
   "id": "ad2faaa9-dbed-4652-817b-b7e3168b494f",
   "metadata": {},
   "outputs": [],
   "source": [
    "import LCTIMSpy \n",
    "import importlib\n",
    "from LCTIMSpy.LCTIMSpy import *\n",
    "importlib.reload(LCTIMSpy.LCTIMSpy)\n",
    "from LCTIMSpy.LCTIMSpy import lctims\n",
    "\n"
   ]
  }
 ],
 "metadata": {
  "kernelspec": {
   "display_name": "Python 3 (ipykernel)",
   "language": "python",
   "name": "python3"
  },
  "language_info": {
   "codemirror_mode": {
    "name": "ipython",
    "version": 3
   },
   "file_extension": ".py",
   "mimetype": "text/x-python",
   "name": "python",
   "nbconvert_exporter": "python",
   "pygments_lexer": "ipython3",
   "version": "3.11.10"
  }
 },
 "nbformat": 4,
 "nbformat_minor": 5
}
